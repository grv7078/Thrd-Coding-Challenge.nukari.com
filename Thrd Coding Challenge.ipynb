{
 "cells": [
  {
   "cell_type": "code",
   "execution_count": 3,
   "id": "c7cdc369-0575-49f9-96e3-4504da423159",
   "metadata": {},
   "outputs": [
    {
     "data": {
      "text/plain": [
       "'C:\\\\Users\\\\gky16\\\\Downloads\\\\updated_prices.csv'"
      ]
     },
     "execution_count": 3,
     "metadata": {},
     "output_type": "execute_result"
    }
   ],
   "source": [
    "import pandas as pd\n",
    "\n",
    "products_data = {\n",
    "    \"sku\": [\"A123\", \"B456\", \"C789\"],\n",
    "    \"name\": [\"Item A\", \"Item B\", \"Item C\"],\n",
    "    \"current_price\": [649.99, 699.00, 999.00],\n",
    "    \"cost_price\": [500.00, 550.00, 500.00],\n",
    "    \"stock\": [150, 15, 250]\n",
    "}\n",
    "\n",
    "sales_data = {\n",
    "    \"sku\": [\"A123\", \"B456\", \"C789\"],\n",
    "    \"quantity_sold\": [10, 35, 0]\n",
    "}\n",
    "\n",
    "products_df = pd.DataFrame(products_data)\n",
    "sales_df = pd.DataFrame(sales_data)\n",
    "\n",
    "df = pd.merge(products_df, sales_df, on=\"sku\")\n",
    "\n",
    "def apply_pricing_rules(row):\n",
    "    price = row['current_price']\n",
    "    cost = row['cost_price']\n",
    "    stock = row['stock']\n",
    "    sold = row['quantity_sold']\n",
    "\n",
    "    if stock < 20 and sold > 30:\n",
    "        price *= 1.15\n",
    "    elif stock > 200 and sold == 0:\n",
    "        price *= 0.70\n",
    "    # Rule 3\n",
    "    elif stock > 100 and sold < 20:\n",
    "        price *= 0.90\n",
    "    min_price = cost * 1.2\n",
    "    if price < min_price:\n",
    "        price = min_price\n",
    "\n",
    "    return round(price, 2)\n",
    "df['new_price'] = df.apply(apply_pricing_rules, axis=1)\n",
    "\n",
    "output_df = df[['sku', 'current_price', 'new_price']]\n",
    "output_path = r\"C:\\Users\\gky16\\Downloads\\updated_prices.csv\"\n",
    "output_df.to_csv(output_path, index=False)\n",
    "output_path"
   ]
  },
  {
   "cell_type": "code",
   "execution_count": null,
   "id": "f894431d-7b15-44f4-83c7-c54f8a892445",
   "metadata": {},
   "outputs": [],
   "source": []
  }
 ],
 "metadata": {
  "kernelspec": {
   "display_name": "Python 3 (ipykernel)",
   "language": "python",
   "name": "python3"
  },
  "language_info": {
   "codemirror_mode": {
    "name": "ipython",
    "version": 3
   },
   "file_extension": ".py",
   "mimetype": "text/x-python",
   "name": "python",
   "nbconvert_exporter": "python",
   "pygments_lexer": "ipython3",
   "version": "3.12.7"
  }
 },
 "nbformat": 4,
 "nbformat_minor": 5
}
